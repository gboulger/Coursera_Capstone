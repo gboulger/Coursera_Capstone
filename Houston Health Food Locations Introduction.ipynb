{
    "cells": [
        {
            "cell_type": "markdown",
            "metadata": {
                "collapsed": true
            },
            "source": "# Houston Health Food Related Restaurant Locations"
        },
        {
            "cell_type": "markdown",
            "metadata": {},
            "source": "### Introduction"
        },
        {
            "cell_type": "markdown",
            "metadata": {},
            "source": "The Business Problem: One of the biggest challenges for any restaurant is finding the right location. As they say in Real Estate, the three most important things are location, location, location. This would be especially true for healthy food alternatives to fast food that are more of a niche product with a more limited clientelle than traditional fast food. The Business Problem I will be solving is to identify high-potential areas in Houston for opening healthy food alternatives to fast food.\n\nWho would be interested: The hypothetical interested party would be an investor looking to open a restaurant that is a healthy food alternative to fast food."
        },
        {
            "cell_type": "code",
            "execution_count": null,
            "metadata": {},
            "outputs": [],
            "source": ""
        },
        {
            "cell_type": "code",
            "execution_count": null,
            "metadata": {},
            "outputs": [],
            "source": ""
        }
    ],
    "metadata": {
        "kernelspec": {
            "display_name": "Python 3.6",
            "language": "python",
            "name": "python3"
        },
        "language_info": {
            "codemirror_mode": {
                "name": "ipython",
                "version": 3
            },
            "file_extension": ".py",
            "mimetype": "text/x-python",
            "name": "python",
            "nbconvert_exporter": "python",
            "pygments_lexer": "ipython3",
            "version": "3.6.9"
        }
    },
    "nbformat": 4,
    "nbformat_minor": 1
}
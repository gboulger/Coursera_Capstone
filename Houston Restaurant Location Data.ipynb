{
    "cells": [
        {
            "cell_type": "markdown",
            "metadata": {
                "collapsed": true
            },
            "source": "# Houston Health Food Related Restaurant Locations"
        },
        {
            "cell_type": "markdown",
            "metadata": {},
            "source": "### Data Sources and Uses"
        },
        {
            "cell_type": "markdown",
            "metadata": {},
            "source": "I will use Starbuck locations in the Houston area from FourSquare as starting point because Starbucks create traffic, Starbucks corporate picks good locations for their stores, and Starbucks clientele are affluent, health conscious and ecologically aware (from the [Motley Fool 6/27/2018](https://www.fool.com/investing/2016/06/16/who-is-starbucks-favorite-customer.aspx) ).\n\nI will use the Neighborhood GIS data from Houston [MyCity web site](https://cohgis-mycity.opendata.arcgis.com/datasets/coh-super-neighborhoods) combined with Starbucks data to determine high potential Neighborhoods.\n\nI will use this FourSquare web page of \n[Venue Categories](https://developer.foursquare.com/docs/build-with-foursquare/categories/):  \nJuice Bar  \n4bf58dd8d48988d112941735  \nHealth Food Store  \n50aa9e744b90af0d42d5de0e  \nPoke Place  \n5bae9231bedf3950379f89d4  \nSmoothie Shop  \n52f2ab2ebcbc57f1066b8b41  \nVegetarian / Vegan Restaurant  \n4bf58dd8d48988d1d3941735  \n\nI will use this FourSquare web page of \n[Chain Codes](https://developer.foursquare.com/docs/build-with-foursquare/chains/):    \nStarbucks  \t556f676fbd6a75a99038d8ec\n\nI will then determine for those Starbucks locations in high potential Houston neighborhoods the availability of health food related venues near them from FourSquare. The lower the availability of health food related venues near a Starbucks, the higher the potential for a new Health food venue in that area. I will then cluster areas by proximity to other Starbucks and away from Health venues to identify high opportunity areas."
        },
        {
            "cell_type": "code",
            "execution_count": null,
            "metadata": {},
            "outputs": [],
            "source": ""
        }
    ],
    "metadata": {
        "kernelspec": {
            "display_name": "Python 3.6",
            "language": "python",
            "name": "python3"
        },
        "language_info": {
            "codemirror_mode": {
                "name": "ipython",
                "version": 3
            },
            "file_extension": ".py",
            "mimetype": "text/x-python",
            "name": "python",
            "nbconvert_exporter": "python",
            "pygments_lexer": "ipython3",
            "version": "3.6.9"
        }
    },
    "nbformat": 4,
    "nbformat_minor": 1
}